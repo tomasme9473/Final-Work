{
 "cells": [
  {
   "cell_type": "markdown",
   "metadata": {},
   "source": [
    "# Recurrent Neural Networks\n",
    "\n",
    "### Practical Session\n",
    "\n",
    "<br/> Prof. Dr. Georgios K. Ouzounis\n",
    "<br/> email: georgios.ouzounis@go.kauko.lt"
   ]
  },
  {
   "cell_type": "markdown",
   "metadata": {},
   "source": [
    "## Contents\n",
    "\n",
    "1. Data loading and pre-processing\n",
    "2. Building the RNN\n",
    "3. Train and deploy the RNN\n",
    "4. Improving the RNN"
   ]
  },
  {
   "cell_type": "markdown",
   "metadata": {},
   "source": [
    "## Challenge"
   ]
  },
  {
   "cell_type": "code",
   "execution_count": 1,
   "metadata": {},
   "outputs": [],
   "source": [
    "#Check the past 10 years stocks of chosen company in my case it was AMD"
   ]
  },
  {
   "cell_type": "code",
   "execution_count": 2,
   "metadata": {},
   "outputs": [],
   "source": [
    "# importing the libraries\n",
    "import numpy as np\n",
    "import matplotlib.pyplot as plt\n",
    "import pandas as pd"
   ]
  },
  {
   "cell_type": "markdown",
   "metadata": {},
   "source": [
    "### Import the dataset"
   ]
  },
  {
   "cell_type": "code",
   "execution_count": 3,
   "metadata": {},
   "outputs": [],
   "source": [
    "#Dataset description: the open high, low and close values of the AMD from 2009 to 2019"
   ]
  },
  {
   "cell_type": "code",
   "execution_count": 4,
   "metadata": {},
   "outputs": [],
   "source": [
    "#importing the the training dataset\n",
    "\n",
    "# load the file contents \n",
    "dataset_train = pd.read_csv('AMD_train.csv')"
   ]
  },
  {
   "cell_type": "code",
   "execution_count": 5,
   "metadata": {},
   "outputs": [
    {
     "data": {
      "text/html": [
       "<div>\n",
       "<style scoped>\n",
       "    .dataframe tbody tr th:only-of-type {\n",
       "        vertical-align: middle;\n",
       "    }\n",
       "\n",
       "    .dataframe tbody tr th {\n",
       "        vertical-align: top;\n",
       "    }\n",
       "\n",
       "    .dataframe thead th {\n",
       "        text-align: right;\n",
       "    }\n",
       "</style>\n",
       "<table border=\"1\" class=\"dataframe\">\n",
       "  <thead>\n",
       "    <tr style=\"text-align: right;\">\n",
       "      <th></th>\n",
       "      <th>Date</th>\n",
       "      <th>Open</th>\n",
       "      <th>High</th>\n",
       "      <th>Low</th>\n",
       "      <th>Close</th>\n",
       "      <th>Adj Close</th>\n",
       "      <th>Volume</th>\n",
       "    </tr>\n",
       "  </thead>\n",
       "  <tbody>\n",
       "    <tr>\n",
       "      <th>0</th>\n",
       "      <td>7/31/2009</td>\n",
       "      <td>3.66</td>\n",
       "      <td>3.73</td>\n",
       "      <td>3.65</td>\n",
       "      <td>3.66</td>\n",
       "      <td>3.66</td>\n",
       "      <td>14282400</td>\n",
       "    </tr>\n",
       "    <tr>\n",
       "      <th>1</th>\n",
       "      <td>8/3/2009</td>\n",
       "      <td>3.75</td>\n",
       "      <td>3.78</td>\n",
       "      <td>3.70</td>\n",
       "      <td>3.74</td>\n",
       "      <td>3.74</td>\n",
       "      <td>12875200</td>\n",
       "    </tr>\n",
       "    <tr>\n",
       "      <th>2</th>\n",
       "      <td>8/4/2009</td>\n",
       "      <td>3.75</td>\n",
       "      <td>3.85</td>\n",
       "      <td>3.68</td>\n",
       "      <td>3.76</td>\n",
       "      <td>3.76</td>\n",
       "      <td>20095900</td>\n",
       "    </tr>\n",
       "    <tr>\n",
       "      <th>3</th>\n",
       "      <td>8/5/2009</td>\n",
       "      <td>3.77</td>\n",
       "      <td>3.79</td>\n",
       "      <td>3.70</td>\n",
       "      <td>3.75</td>\n",
       "      <td>3.75</td>\n",
       "      <td>12174500</td>\n",
       "    </tr>\n",
       "    <tr>\n",
       "      <th>4</th>\n",
       "      <td>8/6/2009</td>\n",
       "      <td>3.75</td>\n",
       "      <td>3.79</td>\n",
       "      <td>3.66</td>\n",
       "      <td>3.71</td>\n",
       "      <td>3.71</td>\n",
       "      <td>11660200</td>\n",
       "    </tr>\n",
       "  </tbody>\n",
       "</table>\n",
       "</div>"
      ],
      "text/plain": [
       "        Date  Open  High   Low  Close  Adj Close    Volume\n",
       "0  7/31/2009  3.66  3.73  3.65   3.66       3.66  14282400\n",
       "1   8/3/2009  3.75  3.78  3.70   3.74       3.74  12875200\n",
       "2   8/4/2009  3.75  3.85  3.68   3.76       3.76  20095900\n",
       "3   8/5/2009  3.77  3.79  3.70   3.75       3.75  12174500\n",
       "4   8/6/2009  3.75  3.79  3.66   3.71       3.71  11660200"
      ]
     },
     "execution_count": 5,
     "metadata": {},
     "output_type": "execute_result"
    }
   ],
   "source": [
    "#checking if we got correct information from AMD_train.csv\n",
    "dataset_train.head()"
   ]
  },
  {
   "cell_type": "code",
   "execution_count": 6,
   "metadata": {},
   "outputs": [],
   "source": [
    "#  create a subtable of relevant entries (open values)\n",
    "# The .values makes this vector a numpy array\n",
    "training_set = dataset_train.iloc[:, 1:2].values "
   ]
  },
  {
   "cell_type": "code",
   "execution_count": 7,
   "metadata": {},
   "outputs": [
    {
     "data": {
      "text/plain": [
       "array([[ 3.66    ],\n",
       "       [ 3.75    ],\n",
       "       [ 3.75    ],\n",
       "       ...,\n",
       "       [34.23    ],\n",
       "       [34.139999],\n",
       "       [33.209999]])"
      ]
     },
     "execution_count": 7,
     "metadata": {},
     "output_type": "execute_result"
    }
   ],
   "source": [
    "training_set"
   ]
  },
  {
   "cell_type": "markdown",
   "metadata": {},
   "source": [
    "Numpy arrays do not support the view() and head() methods. [More on accessing the numpy data](https://jakevdp.github.io/PythonDataScienceHandbook/02.02-the-basics-of-numpy-arrays.html)\n"
   ]
  },
  {
   "cell_type": "markdown",
   "metadata": {},
   "source": [
    "### Feature Scaling\n",
    "\n",
    "Next we need to rescale our data to the range from 0 to 1. \n",
    "\n",
    "Feature scaling is essential as discussed if the Features lecture and needs to be applied to both the training and test sets.\n",
    "\n",
    "It is computed using the ScikitLearn library [MinMaxScaler()](http://scikit-learn.org/stable/modules/generated/sklearn.preprocessing.MinMaxScaler.html#sklearn.preprocessing.MinMaxScaler) which transforms the selected feature by scaling it to a given range. If more than one, this estimator scales and translates each feature individually such that it is in the given range on the training set, i.e. between zero and one."
   ]
  },
  {
   "cell_type": "code",
   "execution_count": 8,
   "metadata": {},
   "outputs": [],
   "source": [
    "# Feature Scaling\n",
    "\n",
    "# import the MinMaxScaler\n",
    "from sklearn.preprocessing import MinMaxScaler"
   ]
  },
  {
   "cell_type": "code",
   "execution_count": 9,
   "metadata": {},
   "outputs": [],
   "source": [
    "# create a scaler instance to rescale all data to the range of 0.0 to 1.0 \n",
    "sc = MinMaxScaler(feature_range = (0, 1))"
   ]
  },
  {
   "cell_type": "code",
   "execution_count": 10,
   "metadata": {},
   "outputs": [],
   "source": [
    "# create the actual training set of scaled values\n",
    "training_set_scaled = sc.fit_transform(training_set)"
   ]
  },
  {
   "cell_type": "code",
   "execution_count": 11,
   "metadata": {},
   "outputs": [
    {
     "data": {
      "text/plain": [
       "array([[0.0624235 ],\n",
       "       [0.06517748],\n",
       "       [0.06517748],\n",
       "       ...,\n",
       "       [0.99785805],\n",
       "       [0.99510404],\n",
       "       [0.96664627]])"
      ]
     },
     "execution_count": 11,
     "metadata": {},
     "output_type": "execute_result"
    }
   ],
   "source": [
    "training_set_scaled"
   ]
  },
  {
   "cell_type": "markdown",
   "metadata": {},
   "source": [
    "### Splitting the training set to dependent and independent variables"
   ]
  },
  {
   "cell_type": "markdown",
   "metadata": {},
   "source": [
    "<img src=\"https://drive.google.com/uc?id=1bckuLGZCeLUzNA-xJCGOODzC-4n2U-If\"/>"
   ]
  },
  {
   "cell_type": "code",
   "execution_count": 13,
   "metadata": {},
   "outputs": [],
   "source": [
    "# Creating a data structure with 90 timesteps and 1 output\n",
    "\n",
    "# the 90 stock prices in the last 3 months before today\n",
    "X_train = [] "
   ]
  },
  {
   "cell_type": "code",
   "execution_count": 14,
   "metadata": {},
   "outputs": [
    {
     "data": {
      "text/plain": [
       "(2516, 1)"
      ]
     },
     "execution_count": 14,
     "metadata": {},
     "output_type": "execute_result"
    }
   ],
   "source": [
    "#I think that we check for maximum range for \n",
    "training_set_scaled.shape"
   ]
  },
  {
   "cell_type": "code",
   "execution_count": 15,
   "metadata": {},
   "outputs": [],
   "source": [
    "# the stock price today\n",
    "y_train = [] "
   ]
  },
  {
   "cell_type": "code",
   "execution_count": 16,
   "metadata": {},
   "outputs": [],
   "source": [
    "# we start from day 90 because that is the first instance allowing us to \n",
    "# go back 90 days\n",
    "for i in range(90, 2516): \n",
    "    # 0 is the column ID, the only column in this case.\n",
    "    # put the last 90 days values in one row of X_train\n",
    "    X_train.append(training_set_scaled[i-90:i, 0]) \n",
    "    y_train.append(training_set_scaled[i, 0])\n"
   ]
  },
  {
   "cell_type": "code",
   "execution_count": 17,
   "metadata": {},
   "outputs": [],
   "source": [
    "X_train, y_train = np.array(X_train), np.array(y_train)"
   ]
  },
  {
   "cell_type": "code",
   "execution_count": 18,
   "metadata": {},
   "outputs": [
    {
     "data": {
      "text/plain": [
       "array([[0.0624235 , 0.06517748, 0.06517748, ..., 0.1759486 , 0.19798042,\n",
       "        0.20287638],\n",
       "       [0.06517748, 0.06517748, 0.06578948, ..., 0.19798042, 0.20287638,\n",
       "        0.20838434],\n",
       "       [0.06517748, 0.06578948, 0.06517748, ..., 0.20287638, 0.20838434,\n",
       "        0.22001225],\n",
       "       ...,\n",
       "       [0.67258264, 0.76101594, 0.73929014, ..., 0.96542224, 0.97980416,\n",
       "        0.99235006],\n",
       "       [0.76101594, 0.73929014, 0.79314571, ..., 0.97980416, 0.99235006,\n",
       "        0.99785805],\n",
       "       [0.73929014, 0.79314571, 0.75489601, ..., 0.99235006, 0.99785805,\n",
       "        0.99510404]])"
      ]
     },
     "execution_count": 18,
     "metadata": {},
     "output_type": "execute_result"
    }
   ],
   "source": [
    "X_train"
   ]
  },
  {
   "cell_type": "markdown",
   "metadata": {},
   "source": [
    "If we were to add the stock value of somebody else together with the the past 60 days of Google, we need to change the length of the 3 dimension to  2.  RNN training tables are 3D!!! Read: [Reshaping NumPy Array | Numpy Array Reshape Examples](https://backtobazics.com/python/python-reshaping-numpy-array-examples/)"
   ]
  },
  {
   "cell_type": "code",
   "execution_count": 19,
   "metadata": {},
   "outputs": [],
   "source": [
    "# Reshaping the data matrix, we retain the 2 original dimensions and add a third of depth=1\n",
    "X_train = np.reshape(X_train, (X_train.shape[0], X_train.shape[1], 1))"
   ]
  },
  {
   "cell_type": "markdown",
   "metadata": {},
   "source": [
    "## Building the RNN"
   ]
  },
  {
   "cell_type": "markdown",
   "metadata": {},
   "source": [
    "### RNN initialization\n",
    "\n",
    "- Import the sequential model from the Keras API;\n",
    "- Import the Dense layer template from the Keras API;\n",
    "- Import the LSTM model from the Keras API\n",
    "- Create an instance of the sequential model called regressor because we want to predict a continuous value"
   ]
  },
  {
   "cell_type": "code",
   "execution_count": 20,
   "metadata": {},
   "outputs": [],
   "source": [
    "# Importing the Keras libraries and packages\n",
    "from keras.models import Sequential\n",
    "from keras.layers import Dense\n",
    "from keras.layers import LSTM\n",
    "from keras.layers import Dropout"
   ]
  },
  {
   "cell_type": "code",
   "execution_count": 21,
   "metadata": {},
   "outputs": [],
   "source": [
    "# Initialising the RNN as a sequence of layers\n",
    "regressor = Sequential()"
   ]
  },
  {
   "cell_type": "markdown",
   "metadata": {},
   "source": [
    "### Add First Layer\n",
    "\n",
    "We first add an object of the LSTM class! \n",
    "\n",
    "- The first argument is the number of units or LSTM memory cells. Include many neurons to address the high dimensionality of the problem; say 50 neurons! \n",
    "- Second arg: return sequences = true; stacked LSTM !\n",
    "- Third arg: input 3D shape: observations vs time steps vs number of indicators"
   ]
  },
  {
   "cell_type": "code",
   "execution_count": 22,
   "metadata": {},
   "outputs": [],
   "source": [
    "# Adding the input layer and the LSTM layer\n",
    "regressor.add(LSTM(units = 50, return_sequences = True, input_shape =  (X_train.shape[1], 1)))"
   ]
  },
  {
   "cell_type": "code",
   "execution_count": 23,
   "metadata": {},
   "outputs": [],
   "source": [
    "# the argument is the dropout rate to ignore in the layers (20%), \n",
    "# i.e. 50 units * 20% = 10 units will be dropped each time\n",
    "regressor.add(Dropout(0.2))\n"
   ]
  },
  {
   "cell_type": "markdown",
   "metadata": {},
   "source": [
    "### Add More Layers\n",
    "\n",
    "We can add more LSTM layers but along with Dropout regularization to make sure we avoid overfitting! \n",
    "\n",
    "We don’t need to add the shape of the layer again because it is recognized automatically from the number of input units.\n",
    "\n",
    "The last layer does not return a sequence but connected directly to a fully connected output layer.\n"
   ]
  },
  {
   "cell_type": "code",
   "execution_count": 24,
   "metadata": {},
   "outputs": [],
   "source": [
    "# Adding a second LSTM layer and some Dropout regularisation\n",
    "regressor.add(LSTM(units = 50, return_sequences = True))\n",
    "regressor.add(Dropout(0.2))"
   ]
  },
  {
   "cell_type": "code",
   "execution_count": 25,
   "metadata": {},
   "outputs": [],
   "source": [
    "# Adding a third LSTM layer and some Dropout regularisation\n",
    "regressor.add(LSTM(units = 50, return_sequences = True))\n",
    "regressor.add(Dropout(0.2))"
   ]
  },
  {
   "cell_type": "code",
   "execution_count": 26,
   "metadata": {},
   "outputs": [],
   "source": [
    "# Adding a fourth LSTM layer and some Dropout regularisation\n",
    "# we removed the return_sequences because we no longer return a \n",
    "# sequence but a value instead\n",
    "regressor.add(LSTM(units = 50))\n",
    "regressor.add(Dropout(0.2))"
   ]
  },
  {
   "cell_type": "markdown",
   "metadata": {},
   "source": [
    "### Add Output Layer & Compile\n",
    "\n",
    "The output has 1 dimension , i.e. one value to be predicted thus or output fully connected layer has dimensionality = 1.\n",
    "\n",
    "- **Optimizer**: rmsprop is recommended in the Keras documentation. The Adam optimizer is also a powerful choice.\n",
    "- **Loss function**: regression problems take the mean square error as most common"
   ]
  },
  {
   "cell_type": "code",
   "execution_count": 27,
   "metadata": {},
   "outputs": [],
   "source": [
    "# Adding the output layer\n",
    "regressor.add(Dense(units = 1))"
   ]
  },
  {
   "cell_type": "code",
   "execution_count": 28,
   "metadata": {},
   "outputs": [],
   "source": [
    "# Compiling the RNN\n",
    "regressor.compile(optimizer = 'adam', loss = 'mean_squared_error')"
   ]
  },
  {
   "cell_type": "markdown",
   "metadata": {},
   "source": [
    "## Train and deploy the RNN"
   ]
  },
  {
   "cell_type": "markdown",
   "metadata": {},
   "source": [
    "### Fit the RNN to the Training set\n",
    "\n",
    "We now want to train our RNN using the data in our **Training Set X** and **predictors in y** (ground truth in this case). Parameters that can be specified are the:\n",
    "\n",
    "- **Batch size**:  update the cell weights not on every stock price on every batch_size values; \n",
    "- **Number of epochs**: how many iterations to be used, i.e. number of forward and backward propagations for the update of the weights\n"
   ]
  },
  {
   "cell_type": "code",
   "execution_count": 29,
   "metadata": {},
   "outputs": [
    {
     "name": "stdout",
     "output_type": "stream",
     "text": [
      "Epoch 1/100\n",
      "76/76 [==============================] - 17s 227ms/step - loss: 0.0070\n",
      "Epoch 2/100\n",
      "76/76 [==============================] - 16s 212ms/step - loss: 0.0030\n",
      "Epoch 3/100\n",
      "76/76 [==============================] - 12s 152ms/step - loss: 0.0024\n",
      "Epoch 4/100\n",
      "76/76 [==============================] - 10s 133ms/step - loss: 0.0025\n",
      "Epoch 5/100\n",
      "76/76 [==============================] - 10s 137ms/step - loss: 0.0022\n",
      "Epoch 6/100\n",
      "76/76 [==============================] - 10s 134ms/step - loss: 0.0017\n",
      "Epoch 7/100\n",
      "76/76 [==============================] - 11s 139ms/step - loss: 0.0017\n",
      "Epoch 8/100\n",
      "76/76 [==============================] - 11s 139ms/step - loss: 0.0015\n",
      "Epoch 9/100\n",
      "76/76 [==============================] - 10s 134ms/step - loss: 0.0015\n",
      "Epoch 10/100\n",
      "76/76 [==============================] - 10s 133ms/step - loss: 0.0014\n",
      "Epoch 11/100\n",
      "76/76 [==============================] - 10s 133ms/step - loss: 0.0016\n",
      "Epoch 12/100\n",
      "76/76 [==============================] - 10s 134ms/step - loss: 0.0020\n",
      "Epoch 13/100\n",
      "76/76 [==============================] - 10s 136ms/step - loss: 0.0014\n",
      "Epoch 14/100\n",
      "76/76 [==============================] - 10s 134ms/step - loss: 0.0015\n",
      "Epoch 15/100\n",
      "76/76 [==============================] - 10s 133ms/step - loss: 0.0013\n",
      "Epoch 16/100\n",
      "76/76 [==============================] - 10s 134ms/step - loss: 0.0014\n",
      "Epoch 17/100\n",
      "76/76 [==============================] - 10s 134ms/step - loss: 0.0014\n",
      "Epoch 18/100\n",
      "76/76 [==============================] - 10s 134ms/step - loss: 0.0012\n",
      "Epoch 19/100\n",
      "76/76 [==============================] - 10s 138ms/step - loss: 0.0012\n",
      "Epoch 20/100\n",
      "76/76 [==============================] - 11s 144ms/step - loss: 0.0014\n",
      "Epoch 21/100\n",
      "76/76 [==============================] - 21s 271ms/step - loss: 0.0013\n",
      "Epoch 22/100\n",
      "76/76 [==============================] - 19s 256ms/step - loss: 0.0014\n",
      "Epoch 23/100\n",
      "76/76 [==============================] - 16s 215ms/step - loss: 0.0012\n",
      "Epoch 24/100\n",
      "76/76 [==============================] - 12s 152ms/step - loss: 0.0013\n",
      "Epoch 25/100\n",
      "76/76 [==============================] - 12s 155ms/step - loss: 0.0010\n",
      "Epoch 26/100\n",
      "76/76 [==============================] - 12s 157ms/step - loss: 0.0012\n",
      "Epoch 27/100\n",
      "76/76 [==============================] - 11s 150ms/step - loss: 0.0011\n",
      "Epoch 28/100\n",
      "76/76 [==============================] - 11s 151ms/step - loss: 9.7661e-04\n",
      "Epoch 29/100\n",
      "76/76 [==============================] - 11s 150ms/step - loss: 0.0010\n",
      "Epoch 30/100\n",
      "76/76 [==============================] - 12s 152ms/step - loss: 0.0011\n",
      "Epoch 31/100\n",
      "76/76 [==============================] - 11s 148ms/step - loss: 0.0011\n",
      "Epoch 32/100\n",
      "76/76 [==============================] - 11s 143ms/step - loss: 8.9983e-04\n",
      "Epoch 33/100\n",
      "76/76 [==============================] - 11s 140ms/step - loss: 0.0011\n",
      "Epoch 34/100\n",
      "76/76 [==============================] - 11s 139ms/step - loss: 0.0011\n",
      "Epoch 35/100\n",
      "76/76 [==============================] - 10s 137ms/step - loss: 9.4587e-04\n",
      "Epoch 36/100\n",
      "76/76 [==============================] - 11s 140ms/step - loss: 9.3614e-04\n",
      "Epoch 37/100\n",
      "76/76 [==============================] - 10s 136ms/step - loss: 9.8188e-04\n",
      "Epoch 38/100\n",
      "76/76 [==============================] - 10s 138ms/step - loss: 8.6803e-04\n",
      "Epoch 39/100\n",
      "76/76 [==============================] - 10s 137ms/step - loss: 0.0010\n",
      "Epoch 40/100\n",
      "76/76 [==============================] - 10s 137ms/step - loss: 8.5507e-04\n",
      "Epoch 41/100\n",
      "76/76 [==============================] - 10s 137ms/step - loss: 8.5729e-04\n",
      "Epoch 42/100\n",
      "76/76 [==============================] - 11s 143ms/step - loss: 8.7299e-04\n",
      "Epoch 43/100\n",
      "76/76 [==============================] - 11s 139ms/step - loss: 8.7101e-04\n",
      "Epoch 44/100\n",
      "76/76 [==============================] - 11s 140ms/step - loss: 8.7558e-04\n",
      "Epoch 45/100\n",
      "76/76 [==============================] - 12s 152ms/step - loss: 8.6681e-04\n",
      "Epoch 46/100\n",
      "76/76 [==============================] - 11s 148ms/step - loss: 8.9477e-04\n",
      "Epoch 47/100\n",
      "76/76 [==============================] - 12s 156ms/step - loss: 8.1464e-04\n",
      "Epoch 48/100\n",
      "76/76 [==============================] - 10s 138ms/step - loss: 8.3522e-04\n",
      "Epoch 49/100\n",
      "76/76 [==============================] - 11s 147ms/step - loss: 8.6961e-04\n",
      "Epoch 50/100\n",
      "76/76 [==============================] - 11s 139ms/step - loss: 8.1190e-04\n",
      "Epoch 51/100\n",
      "76/76 [==============================] - 11s 138ms/step - loss: 8.4393e-04\n",
      "Epoch 52/100\n",
      "76/76 [==============================] - 11s 139ms/step - loss: 7.7627e-04\n",
      "Epoch 53/100\n",
      "76/76 [==============================] - 11s 142ms/step - loss: 8.4140e-04\n",
      "Epoch 54/100\n",
      "76/76 [==============================] - 10s 137ms/step - loss: 8.3101e-04\n",
      "Epoch 55/100\n",
      "76/76 [==============================] - 10s 137ms/step - loss: 8.3870e-04\n",
      "Epoch 56/100\n",
      "76/76 [==============================] - 10s 137ms/step - loss: 8.0099e-04\n",
      "Epoch 57/100\n",
      "76/76 [==============================] - 10s 137ms/step - loss: 7.1121e-04\n",
      "Epoch 58/100\n",
      "76/76 [==============================] - 10s 138ms/step - loss: 8.6223e-04\n",
      "Epoch 59/100\n",
      "76/76 [==============================] - 10s 138ms/step - loss: 8.6829e-04\n",
      "Epoch 60/100\n",
      "76/76 [==============================] - 11s 138ms/step - loss: 9.3407e-04\n",
      "Epoch 61/100\n",
      "76/76 [==============================] - 10s 137ms/step - loss: 7.5627e-04\n",
      "Epoch 62/100\n",
      "76/76 [==============================] - 10s 137ms/step - loss: 9.1359e-04\n",
      "Epoch 63/100\n",
      "76/76 [==============================] - 10s 137ms/step - loss: 7.3466e-04\n",
      "Epoch 64/100\n",
      "76/76 [==============================] - 12s 154ms/step - loss: 8.0730e-04\n",
      "Epoch 65/100\n",
      "76/76 [==============================] - 11s 145ms/step - loss: 7.2327e-04\n",
      "Epoch 66/100\n",
      "76/76 [==============================] - 10s 137ms/step - loss: 7.8466e-04\n",
      "Epoch 67/100\n",
      "76/76 [==============================] - 11s 138ms/step - loss: 7.6038e-04\n",
      "Epoch 68/100\n",
      "76/76 [==============================] - 11s 139ms/step - loss: 7.9628e-04\n",
      "Epoch 69/100\n",
      "76/76 [==============================] - 11s 139ms/step - loss: 9.4415e-04\n",
      "Epoch 70/100\n",
      "76/76 [==============================] - 10s 138ms/step - loss: 7.2597e-04\n",
      "Epoch 71/100\n",
      "76/76 [==============================] - 10s 138ms/step - loss: 8.2367e-04\n",
      "Epoch 72/100\n",
      "76/76 [==============================] - 12s 154ms/step - loss: 7.7903e-04\n",
      "Epoch 73/100\n",
      "76/76 [==============================] - 12s 159ms/step - loss: 8.3061e-04\n",
      "Epoch 74/100\n",
      "76/76 [==============================] - 12s 154ms/step - loss: 8.0680e-04\n",
      "Epoch 75/100\n",
      "76/76 [==============================] - 13s 177ms/step - loss: 7.9538e-04\n",
      "Epoch 76/100\n",
      "76/76 [==============================] - 12s 153ms/step - loss: 6.7699e-04\n",
      "Epoch 77/100\n",
      "76/76 [==============================] - 12s 153ms/step - loss: 6.8970e-04\n",
      "Epoch 78/100\n",
      "76/76 [==============================] - 12s 152ms/step - loss: 6.3667e-04\n",
      "Epoch 79/100\n",
      "76/76 [==============================] - 11s 149ms/step - loss: 6.7126e-04\n",
      "Epoch 80/100\n",
      "76/76 [==============================] - 11s 140ms/step - loss: 7.0387e-04\n",
      "Epoch 81/100\n",
      "76/76 [==============================] - 11s 138ms/step - loss: 7.5144e-04\n",
      "Epoch 82/100\n",
      "76/76 [==============================] - 11s 143ms/step - loss: 7.0135e-04\n",
      "Epoch 83/100\n",
      "76/76 [==============================] - 10s 137ms/step - loss: 6.1011e-04\n",
      "Epoch 84/100\n",
      "76/76 [==============================] - 10s 138ms/step - loss: 6.4453e-04\n",
      "Epoch 85/100\n",
      "76/76 [==============================] - 11s 138ms/step - loss: 7.1567e-04\n",
      "Epoch 86/100\n",
      "76/76 [==============================] - 10s 138ms/step - loss: 6.6681e-04\n",
      "Epoch 87/100\n",
      "76/76 [==============================] - 10s 137ms/step - loss: 7.2748e-04\n",
      "Epoch 88/100\n",
      "76/76 [==============================] - 11s 138ms/step - loss: 6.6113e-04\n",
      "Epoch 89/100\n",
      "76/76 [==============================] - 10s 138ms/step - loss: 6.7301e-04\n",
      "Epoch 90/100\n",
      "76/76 [==============================] - 10s 138ms/step - loss: 6.7702e-04\n",
      "Epoch 91/100\n",
      "76/76 [==============================] - 11s 139ms/step - loss: 6.6321e-04\n",
      "Epoch 92/100\n",
      "76/76 [==============================] - 10s 138ms/step - loss: 8.2927e-04\n",
      "Epoch 93/100\n",
      "76/76 [==============================] - 11s 138ms/step - loss: 6.6387e-04\n",
      "Epoch 94/100\n",
      "76/76 [==============================] - 10s 137ms/step - loss: 7.4763e-04\n",
      "Epoch 95/100\n",
      "76/76 [==============================] - 10s 137ms/step - loss: 6.8843e-04\n",
      "Epoch 96/100\n",
      "76/76 [==============================] - 10s 137ms/step - loss: 6.2406e-04\n",
      "Epoch 97/100\n",
      "76/76 [==============================] - 10s 136ms/step - loss: 6.5915e-04\n",
      "Epoch 98/100\n",
      "76/76 [==============================] - 10s 137ms/step - loss: 6.7632e-04\n",
      "Epoch 99/100\n",
      "76/76 [==============================] - 10s 138ms/step - loss: 6.7484e-04\n",
      "Epoch 100/100\n",
      "76/76 [==============================] - 10s 138ms/step - loss: 5.3849e-04\n"
     ]
    },
    {
     "data": {
      "text/plain": [
       "<tensorflow.python.keras.callbacks.History at 0x7fdf1c668460>"
      ]
     },
     "execution_count": 29,
     "metadata": {},
     "output_type": "execute_result"
    }
   ],
   "source": [
    "# Letting the program about sets of training and predictions\n",
    "regressor.fit(X_train, y_train, epochs = 100, batch_size = 32)"
   ]
  },
  {
   "cell_type": "markdown",
   "metadata": {},
   "source": [
    "### Computing Predictions\n",
    "\n",
    "Create a data-frame by importing the Google Stock Price Test set for January 2017 using pandas and make it a numpy array.\n",
    "\n",
    "There are 20 financial days in one month, weekends are excluded!\n"
   ]
  },
  {
   "cell_type": "code",
   "execution_count": 30,
   "metadata": {},
   "outputs": [
    {
     "data": {
      "text/html": [
       "<div>\n",
       "<style scoped>\n",
       "    .dataframe tbody tr th:only-of-type {\n",
       "        vertical-align: middle;\n",
       "    }\n",
       "\n",
       "    .dataframe tbody tr th {\n",
       "        vertical-align: top;\n",
       "    }\n",
       "\n",
       "    .dataframe thead th {\n",
       "        text-align: right;\n",
       "    }\n",
       "</style>\n",
       "<table border=\"1\" class=\"dataframe\">\n",
       "  <thead>\n",
       "    <tr style=\"text-align: right;\">\n",
       "      <th></th>\n",
       "      <th>Date</th>\n",
       "      <th>Open</th>\n",
       "      <th>High</th>\n",
       "      <th>Low</th>\n",
       "      <th>Close</th>\n",
       "      <th>Adj Close</th>\n",
       "      <th>Volume</th>\n",
       "    </tr>\n",
       "  </thead>\n",
       "  <tbody>\n",
       "    <tr>\n",
       "      <th>0</th>\n",
       "      <td>8/1/2019</td>\n",
       "      <td>30.500000</td>\n",
       "      <td>31.480000</td>\n",
       "      <td>29.100000</td>\n",
       "      <td>29.860001</td>\n",
       "      <td>29.860001</td>\n",
       "      <td>80878900</td>\n",
       "    </tr>\n",
       "    <tr>\n",
       "      <th>1</th>\n",
       "      <td>8/2/2019</td>\n",
       "      <td>29.480000</td>\n",
       "      <td>29.730000</td>\n",
       "      <td>28.940001</td>\n",
       "      <td>29.440001</td>\n",
       "      <td>29.440001</td>\n",
       "      <td>60410900</td>\n",
       "    </tr>\n",
       "    <tr>\n",
       "      <th>2</th>\n",
       "      <td>8/5/2019</td>\n",
       "      <td>28.260000</td>\n",
       "      <td>28.490000</td>\n",
       "      <td>27.650000</td>\n",
       "      <td>27.990000</td>\n",
       "      <td>27.990000</td>\n",
       "      <td>74333200</td>\n",
       "    </tr>\n",
       "    <tr>\n",
       "      <th>3</th>\n",
       "      <td>8/6/2019</td>\n",
       "      <td>28.860001</td>\n",
       "      <td>29.049999</td>\n",
       "      <td>28.200001</td>\n",
       "      <td>28.860001</td>\n",
       "      <td>28.860001</td>\n",
       "      <td>60578400</td>\n",
       "    </tr>\n",
       "    <tr>\n",
       "      <th>4</th>\n",
       "      <td>8/7/2019</td>\n",
       "      <td>28.469999</td>\n",
       "      <td>29.280001</td>\n",
       "      <td>28.370001</td>\n",
       "      <td>29.190001</td>\n",
       "      <td>29.190001</td>\n",
       "      <td>58577500</td>\n",
       "    </tr>\n",
       "    <tr>\n",
       "      <th>5</th>\n",
       "      <td>8/8/2019</td>\n",
       "      <td>31.530001</td>\n",
       "      <td>34.270000</td>\n",
       "      <td>31.480000</td>\n",
       "      <td>33.919998</td>\n",
       "      <td>33.919998</td>\n",
       "      <td>167278800</td>\n",
       "    </tr>\n",
       "    <tr>\n",
       "      <th>6</th>\n",
       "      <td>8/9/2019</td>\n",
       "      <td>33.450001</td>\n",
       "      <td>35.549999</td>\n",
       "      <td>33.080002</td>\n",
       "      <td>34.189999</td>\n",
       "      <td>34.189999</td>\n",
       "      <td>132483900</td>\n",
       "    </tr>\n",
       "    <tr>\n",
       "      <th>7</th>\n",
       "      <td>8/12/2019</td>\n",
       "      <td>34.160000</td>\n",
       "      <td>34.650002</td>\n",
       "      <td>32.080002</td>\n",
       "      <td>32.430000</td>\n",
       "      <td>32.430000</td>\n",
       "      <td>106737000</td>\n",
       "    </tr>\n",
       "    <tr>\n",
       "      <th>8</th>\n",
       "      <td>8/13/2019</td>\n",
       "      <td>32.360001</td>\n",
       "      <td>33.139999</td>\n",
       "      <td>31.719999</td>\n",
       "      <td>32.110001</td>\n",
       "      <td>32.110001</td>\n",
       "      <td>102009700</td>\n",
       "    </tr>\n",
       "    <tr>\n",
       "      <th>9</th>\n",
       "      <td>8/14/2019</td>\n",
       "      <td>31.000000</td>\n",
       "      <td>31.049999</td>\n",
       "      <td>29.510000</td>\n",
       "      <td>30.240000</td>\n",
       "      <td>30.240000</td>\n",
       "      <td>127521500</td>\n",
       "    </tr>\n",
       "    <tr>\n",
       "      <th>10</th>\n",
       "      <td>8/15/2019</td>\n",
       "      <td>30.629999</td>\n",
       "      <td>30.730000</td>\n",
       "      <td>29.209999</td>\n",
       "      <td>29.670000</td>\n",
       "      <td>29.670000</td>\n",
       "      <td>71674400</td>\n",
       "    </tr>\n",
       "    <tr>\n",
       "      <th>11</th>\n",
       "      <td>8/16/2019</td>\n",
       "      <td>30.309999</td>\n",
       "      <td>31.480000</td>\n",
       "      <td>30.209999</td>\n",
       "      <td>31.180000</td>\n",
       "      <td>31.180000</td>\n",
       "      <td>70469800</td>\n",
       "    </tr>\n",
       "    <tr>\n",
       "      <th>12</th>\n",
       "      <td>8/19/2019</td>\n",
       "      <td>32.000000</td>\n",
       "      <td>32.189999</td>\n",
       "      <td>31.420000</td>\n",
       "      <td>31.480000</td>\n",
       "      <td>31.480000</td>\n",
       "      <td>67596900</td>\n",
       "    </tr>\n",
       "    <tr>\n",
       "      <th>13</th>\n",
       "      <td>8/20/2019</td>\n",
       "      <td>30.940001</td>\n",
       "      <td>31.309999</td>\n",
       "      <td>30.450001</td>\n",
       "      <td>30.719999</td>\n",
       "      <td>30.719999</td>\n",
       "      <td>47924000</td>\n",
       "    </tr>\n",
       "    <tr>\n",
       "      <th>14</th>\n",
       "      <td>8/21/2019</td>\n",
       "      <td>31.049999</td>\n",
       "      <td>31.740000</td>\n",
       "      <td>30.840000</td>\n",
       "      <td>31.700001</td>\n",
       "      <td>31.700001</td>\n",
       "      <td>41441500</td>\n",
       "    </tr>\n",
       "    <tr>\n",
       "      <th>15</th>\n",
       "      <td>8/22/2019</td>\n",
       "      <td>31.760000</td>\n",
       "      <td>31.920000</td>\n",
       "      <td>30.980000</td>\n",
       "      <td>31.900000</td>\n",
       "      <td>31.900000</td>\n",
       "      <td>47667900</td>\n",
       "    </tr>\n",
       "    <tr>\n",
       "      <th>16</th>\n",
       "      <td>8/23/2019</td>\n",
       "      <td>31.299999</td>\n",
       "      <td>31.830000</td>\n",
       "      <td>29.400000</td>\n",
       "      <td>29.540001</td>\n",
       "      <td>29.540001</td>\n",
       "      <td>83681100</td>\n",
       "    </tr>\n",
       "    <tr>\n",
       "      <th>17</th>\n",
       "      <td>8/26/2019</td>\n",
       "      <td>30.340000</td>\n",
       "      <td>30.719999</td>\n",
       "      <td>29.940001</td>\n",
       "      <td>30.280001</td>\n",
       "      <td>30.280001</td>\n",
       "      <td>50612500</td>\n",
       "    </tr>\n",
       "    <tr>\n",
       "      <th>18</th>\n",
       "      <td>8/27/2019</td>\n",
       "      <td>30.600000</td>\n",
       "      <td>30.889999</td>\n",
       "      <td>29.600000</td>\n",
       "      <td>30.200001</td>\n",
       "      <td>30.200001</td>\n",
       "      <td>53229200</td>\n",
       "    </tr>\n",
       "    <tr>\n",
       "      <th>19</th>\n",
       "      <td>8/28/2019</td>\n",
       "      <td>29.920000</td>\n",
       "      <td>31.180000</td>\n",
       "      <td>29.700001</td>\n",
       "      <td>30.780001</td>\n",
       "      <td>30.780001</td>\n",
       "      <td>55835900</td>\n",
       "    </tr>\n",
       "    <tr>\n",
       "      <th>20</th>\n",
       "      <td>8/29/2019</td>\n",
       "      <td>31.469999</td>\n",
       "      <td>31.830000</td>\n",
       "      <td>31.330000</td>\n",
       "      <td>31.450001</td>\n",
       "      <td>31.450001</td>\n",
       "      <td>44422800</td>\n",
       "    </tr>\n",
       "    <tr>\n",
       "      <th>21</th>\n",
       "      <td>8/30/2019</td>\n",
       "      <td>31.600000</td>\n",
       "      <td>31.870001</td>\n",
       "      <td>31.129999</td>\n",
       "      <td>31.450001</td>\n",
       "      <td>31.450001</td>\n",
       "      <td>40307000</td>\n",
       "    </tr>\n",
       "  </tbody>\n",
       "</table>\n",
       "</div>"
      ],
      "text/plain": [
       "         Date       Open       High        Low      Close  Adj Close  \\\n",
       "0    8/1/2019  30.500000  31.480000  29.100000  29.860001  29.860001   \n",
       "1    8/2/2019  29.480000  29.730000  28.940001  29.440001  29.440001   \n",
       "2    8/5/2019  28.260000  28.490000  27.650000  27.990000  27.990000   \n",
       "3    8/6/2019  28.860001  29.049999  28.200001  28.860001  28.860001   \n",
       "4    8/7/2019  28.469999  29.280001  28.370001  29.190001  29.190001   \n",
       "5    8/8/2019  31.530001  34.270000  31.480000  33.919998  33.919998   \n",
       "6    8/9/2019  33.450001  35.549999  33.080002  34.189999  34.189999   \n",
       "7   8/12/2019  34.160000  34.650002  32.080002  32.430000  32.430000   \n",
       "8   8/13/2019  32.360001  33.139999  31.719999  32.110001  32.110001   \n",
       "9   8/14/2019  31.000000  31.049999  29.510000  30.240000  30.240000   \n",
       "10  8/15/2019  30.629999  30.730000  29.209999  29.670000  29.670000   \n",
       "11  8/16/2019  30.309999  31.480000  30.209999  31.180000  31.180000   \n",
       "12  8/19/2019  32.000000  32.189999  31.420000  31.480000  31.480000   \n",
       "13  8/20/2019  30.940001  31.309999  30.450001  30.719999  30.719999   \n",
       "14  8/21/2019  31.049999  31.740000  30.840000  31.700001  31.700001   \n",
       "15  8/22/2019  31.760000  31.920000  30.980000  31.900000  31.900000   \n",
       "16  8/23/2019  31.299999  31.830000  29.400000  29.540001  29.540001   \n",
       "17  8/26/2019  30.340000  30.719999  29.940001  30.280001  30.280001   \n",
       "18  8/27/2019  30.600000  30.889999  29.600000  30.200001  30.200001   \n",
       "19  8/28/2019  29.920000  31.180000  29.700001  30.780001  30.780001   \n",
       "20  8/29/2019  31.469999  31.830000  31.330000  31.450001  31.450001   \n",
       "21  8/30/2019  31.600000  31.870001  31.129999  31.450001  31.450001   \n",
       "\n",
       "       Volume  \n",
       "0    80878900  \n",
       "1    60410900  \n",
       "2    74333200  \n",
       "3    60578400  \n",
       "4    58577500  \n",
       "5   167278800  \n",
       "6   132483900  \n",
       "7   106737000  \n",
       "8   102009700  \n",
       "9   127521500  \n",
       "10   71674400  \n",
       "11   70469800  \n",
       "12   67596900  \n",
       "13   47924000  \n",
       "14   41441500  \n",
       "15   47667900  \n",
       "16   83681100  \n",
       "17   50612500  \n",
       "18   53229200  \n",
       "19   55835900  \n",
       "20   44422800  \n",
       "21   40307000  "
      ]
     },
     "execution_count": 30,
     "metadata": {},
     "output_type": "execute_result"
    }
   ],
   "source": [
    "# Getting the real stock price for August1st 20019 - \n",
    "# August 31st 2019\n",
    "\n",
    "dataset_test = pd.read_csv('AMD_Test.csv')\n",
    "dataset_test"
   ]
  },
  {
   "cell_type": "code",
   "execution_count": 31,
   "metadata": {},
   "outputs": [
    {
     "data": {
      "text/plain": [
       "22"
      ]
     },
     "execution_count": 31,
     "metadata": {},
     "output_type": "execute_result"
    }
   ],
   "source": [
    "#checking for how many real stocks there are\n",
    "real_stock_price = dataset_test.iloc[:, 1:2].values\n",
    "real_stock_price.size"
   ]
  },
  {
   "cell_type": "code",
   "execution_count": 32,
   "metadata": {},
   "outputs": [
    {
     "data": {
      "text/plain": [
       "array([[30.5     ],\n",
       "       [29.48    ],\n",
       "       [28.26    ],\n",
       "       [28.860001],\n",
       "       [28.469999],\n",
       "       [31.530001],\n",
       "       [33.450001],\n",
       "       [34.16    ],\n",
       "       [32.360001],\n",
       "       [31.      ],\n",
       "       [30.629999],\n",
       "       [30.309999],\n",
       "       [32.      ],\n",
       "       [30.940001],\n",
       "       [31.049999],\n",
       "       [31.76    ],\n",
       "       [31.299999],\n",
       "       [30.34    ],\n",
       "       [30.6     ],\n",
       "       [29.92    ],\n",
       "       [31.469999],\n",
       "       [31.6     ]])"
      ]
     },
     "execution_count": 32,
     "metadata": {},
     "output_type": "execute_result"
    }
   ],
   "source": [
    "#checking for opening numbers\n",
    "real_stock_price"
   ]
  },
  {
   "cell_type": "markdown",
   "metadata": {},
   "source": [
    "To predict the stock price value for each day in January 2017, we need the values in the last 60 days.\n",
    "\n",
    "To obtain this **history** we need to combine both the training and test sets in one.\n",
    "\n",
    "If we were to use the training_set and test_set we would need to use the scaler  but that would change the actual test values.  Thus concatenate the original data frames!\n"
   ]
  },
  {
   "cell_type": "code",
   "execution_count": 33,
   "metadata": {},
   "outputs": [],
   "source": [
    "# Getting the predicted stock price of 2019\n",
    "\n",
    "# axis = 0 means concatenate the lines (i.e. vertical axis)\n",
    "dataset_total = pd.concat((dataset_train['Open'], dataset_test['Open']), axis = 0) "
   ]
  },
  {
   "cell_type": "code",
   "execution_count": 34,
   "metadata": {},
   "outputs": [
    {
     "data": {
      "text/plain": [
       "2538"
      ]
     },
     "execution_count": 34,
     "metadata": {},
     "output_type": "execute_result"
    }
   ],
   "source": [
    "#Checking for how many entries there are.\n",
    "dataset_total.size\n"
   ]
  },
  {
   "cell_type": "code",
   "execution_count": 35,
   "metadata": {},
   "outputs": [],
   "source": [
    "# the difference in the length of the first two gives us \n",
    "# the first day in 2019, and we need to go back 90 days to get the necessary range\n",
    "inputs = dataset_total[len(dataset_total) - len(dataset_test) - 90:].values"
   ]
  },
  {
   "cell_type": "code",
   "execution_count": 36,
   "metadata": {},
   "outputs": [
    {
     "data": {
      "text/plain": [
       "112"
      ]
     },
     "execution_count": 36,
     "metadata": {},
     "output_type": "execute_result"
    }
   ],
   "source": [
    "\n",
    "inputs.size"
   ]
  },
  {
   "cell_type": "code",
   "execution_count": 37,
   "metadata": {},
   "outputs": [],
   "source": [
    "# we did not use iloc from panda so lets reshape the numpy array for \n",
    "# compatibility: i.e. all the values from input lines to be stacked in one \n",
    "# column. The -1 means that the numpy has no knowledge of how the \n",
    "# values were stored in lines. The 1 means we want to them in one \n",
    "# column.\n",
    "\n",
    "inputs = inputs.reshape(-1,1) \n",
    "\n",
    "# apply the feature scaler\n",
    "inputs = sc.transform(inputs)"
   ]
  },
  {
   "cell_type": "code",
   "execution_count": 38,
   "metadata": {},
   "outputs": [],
   "source": [
    "# Getting the predicted stock price of 2019\n",
    "X_test = []"
   ]
  },
  {
   "cell_type": "code",
   "execution_count": 39,
   "metadata": {},
   "outputs": [],
   "source": [
    "# the first 90 from inputs are from training set; start \n",
    "# from 90 and get the extra 22, i.e. up to 112\n",
    "for i in range(90, 112): \n",
    "    X_test.append(inputs[i-90:i, 0])\n"
   ]
  },
  {
   "cell_type": "code",
   "execution_count": 40,
   "metadata": {},
   "outputs": [],
   "source": [
    "X_test = np.array(X_test) # "
   ]
  },
  {
   "cell_type": "code",
   "execution_count": 41,
   "metadata": {},
   "outputs": [],
   "source": [
    "# create a 3D structure\n",
    "X_test = np.reshape(X_test, (X_test.shape[0], X_test.shape[1], 1))"
   ]
  },
  {
   "cell_type": "code",
   "execution_count": 42,
   "metadata": {},
   "outputs": [],
   "source": [
    "predicted_stock_price = regressor.predict(X_test)"
   ]
  },
  {
   "cell_type": "code",
   "execution_count": 43,
   "metadata": {},
   "outputs": [
    {
     "data": {
      "text/plain": [
       "22"
      ]
     },
     "execution_count": 43,
     "metadata": {},
     "output_type": "execute_result"
    }
   ],
   "source": [
    "# need to inverse the scaling to get meaningful predicted stock price # outputs\n",
    "predicted_stock_price = sc.inverse_transform(predicted_stock_price) \n",
    "predicted_stock_price.size"
   ]
  },
  {
   "cell_type": "markdown",
   "metadata": {},
   "source": [
    "### Result Visualization\n"
   ]
  },
  {
   "cell_type": "code",
   "execution_count": 44,
   "metadata": {},
   "outputs": [
    {
     "data": {
      "image/png": "[encoded data removed]",
      "text/plain": [
       "<Figure size 432x288 with 1 Axes>"
      ]
     },
     "metadata": {
      "needs_background": "light"
     },
     "output_type": "display_data"
    }
   ],
   "source": [
    "# Visualising the results\n",
    "\n",
    "plt.plot(real_stock_price, color = 'red', label = 'Real AMD Stock Price')\n",
    "\n",
    "plt.plot(predicted_stock_price, color = 'blue', label = 'Predicted AMD Stock Price')\n",
    "\n",
    "plt.title('AMD Stock Price Prediction')\n",
    "plt.xlabel('Time')\n",
    "plt.ylabel('AMD Stock Price')\n",
    "plt.legend()\n",
    "\n",
    "plt.show()"
   ]
  },
  {
   "cell_type": "code",
   "execution_count": 45,
   "metadata": {},
   "outputs": [],
   "source": [
    "#import the libraries\n",
    "import math\n",
    "from sklearn.metrics import mean_squared_error"
   ]
  },
  {
   "cell_type": "code",
   "execution_count": 46,
   "metadata": {},
   "outputs": [
    {
     "data": {
      "text/plain": [
       "1.3998140191908426"
      ]
     },
     "execution_count": 46,
     "metadata": {},
     "output_type": "execute_result"
    }
   ],
   "source": [
    "#what is the difference(the perfect outcome is getting 0)\n",
    "#\n",
    "rmse = math.sqrt( mean_squared_error( real_stock_price[0:22,:], predicted_stock_price))\n",
    "rmse"
   ]
  },
  {
   "cell_type": "markdown",
   "metadata": {},
   "source": [
    "## Improving the RNN"
   ]
  },
  {
   "cell_type": "markdown",
   "metadata": {},
   "source": [
    "The new data need to be placed in the same order/format  as in the case of the training/test sets.\n",
    "\n",
    "1. Getting more training data: we trained our model on the past 5 years of the  Google Stock Price but it would be even better to train it on the past 10 years.\n",
    "\n",
    "2. Increasing the number of time steps: the model remembered the stock price from the 60 previous financial days to predict the stock price of the next day. That’s because we chose a number of 60 time steps (3 months). You could try to increase the number of time steps, by choosing for example 120 time steps (6 months).\n",
    "\n",
    "3. Adding some other indicators: if you have the financial instinct that the stock price of some other companies might be correlated to the one of Google, you could add this other stock price as a new indicator in the training data.\n",
    "\n",
    "4. Adding more LSTM layers: we built a RNN with four LSTM layers but you could try with even more.\n",
    "\n",
    "5. Adding more neurons in the LSTM layers: we highlighted the fact that we needed a high number of neurons in the LSTM layers to respond better to the complexity of the problem and we chose to include 50 neurons in each of our 4 LSTM layers. You could try an architecture with even more neurons in each of the 4 (or more) LSTM layers."
   ]
  },
  {
   "cell_type": "markdown",
   "metadata": {},
   "source": [
    "### Fine tuning the RNN\n",
    "\n",
    "Parameter Tuning on the RNN model: we are dealing with a Regression problem because we predict a continuous outcome.\n",
    "\n",
    "**Tip**: replace: scoring = 'accuracy' by scoring = 'neg_mean_squared_error' in the GridSearchCV class parameters as we did in the ANN case."
   ]
  },
  {
   "cell_type": "code",
   "execution_count": null,
   "metadata": {},
   "outputs": [],
   "source": [
    "\n"
   ]
  },
  {
   "cell_type": "code",
   "execution_count": null,
   "metadata": {},
   "outputs": [],
   "source": []
  },
  {
   "cell_type": "code",
   "execution_count": null,
   "metadata": {},
   "outputs": [],
   "source": []
  },
  {
   "cell_type": "code",
   "execution_count": null,
   "metadata": {},
   "outputs": [],
   "source": []
  },
  {
   "cell_type": "code",
   "execution_count": null,
   "metadata": {},
   "outputs": [],
   "source": []
  },
  {
   "cell_type": "code",
   "execution_count": null,
   "metadata": {},
   "outputs": [],
   "source": []
  },
  {
   "cell_type": "code",
   "execution_count": null,
   "metadata": {},
   "outputs": [],
   "source": []
  },
  {
   "cell_type": "code",
   "execution_count": null,
   "metadata": {},
   "outputs": [],
   "source": []
  },
  {
   "cell_type": "code",
   "execution_count": null,
   "metadata": {},
   "outputs": [],
   "source": []
  },
  {
   "cell_type": "code",
   "execution_count": null,
   "metadata": {},
   "outputs": [],
   "source": []
  },
  {
   "cell_type": "code",
   "execution_count": null,
   "metadata": {},
   "outputs": [],
   "source": []
  },
  {
   "cell_type": "code",
   "execution_count": null,
   "metadata": {},
   "outputs": [],
   "source": []
  },
  {
   "cell_type": "code",
   "execution_count": null,
   "metadata": {},
   "outputs": [],
   "source": []
  }
 ],
 "metadata": {
  "kernelspec": {
   "display_name": "Python 3",
   "language": "python",
   "name": "python3"
  },
  "language_info": {
   "codemirror_mode": {
    "name": "ipython",
    "version": 3
   },
   "file_extension": ".py",
   "mimetype": "text/x-python",
   "name": "python",
   "nbconvert_exporter": "python",
   "pygments_lexer": "ipython3",
   "version": "3.8.5"
  }
 },
 "nbformat": 4,
 "nbformat_minor": 2
}
